{
 "cells": [
  {
   "cell_type": "code",
   "execution_count": 11,
   "metadata": {},
   "outputs": [],
   "source": [
    "# Import the dependencies.\n",
    "import numpy as np\n",
    "from pathlib import Path\n",
    "import sqlalchemy\n",
    "from sqlalchemy.ext.automap import automap_base\n",
    "from sqlalchemy.orm import Session\n",
    "from sqlalchemy import create_engine, text , func \n",
    "from flask import Flask, jsonify\n",
    "\n",
    "\n",
    "# Create a reference to the file. \n",
    "database_path = Path(\"CaliCrime.sqlite\")"
   ]
  },
  {
   "cell_type": "code",
   "execution_count": 19,
   "metadata": {},
   "outputs": [],
   "source": [
    "#################################################\n",
    "# Database Setup\n",
    "#################################################\n",
    "\n",
    "engine = create_engine(f\"sqlite:///{database_path}\")\n",
    "\n",
    "# reflect an existing database into a new model\n",
    "Base = automap_base()\n",
    "# reflect the tables\n",
    "Base.prepare(autoload_with=engine)\n",
    "\n",
    "# Save reference to the table\n",
    "Crimes = Base.classes.Crimes\n"
   ]
  },
  {
   "cell_type": "code",
   "execution_count": 20,
   "metadata": {},
   "outputs": [
    {
     "name": "stdout",
     "output_type": "stream",
     "text": [
      "(0, 2019, 'Alameda County', 1, 1668412, 50, 0, 1, 19, 30, 195, 23, 48, 124)\n",
      "(1, 2019, 'Alameda County', 2, 1668412, 49, 1, 2, 19, 27, 187, 34, 47, 106)\n",
      "(2, 2019, 'Alameda County', 3, 1668412, 52, 1, 1, 20, 30, 153, 20, 23, 110)\n",
      "(3, 2019, 'Alameda County', 4, 1668412, 60, 0, 3, 15, 42, 174, 41, 34, 99)\n",
      "(4, 2019, 'Alameda County', 5, 1668412, 62, 0, 1, 23, 38, 180, 31, 38, 111)\n"
     ]
    }
   ],
   "source": [
    "query = text(\"SELECT * FROM crimes limit(5)\")\n",
    "data = engine.execute(query)\n",
    "\n",
    "for record in data:\n",
    "    print(record)"
   ]
  },
  {
   "cell_type": "code",
   "execution_count": 21,
   "metadata": {},
   "outputs": [],
   "source": [
    "#################################################\n",
    "# Flask Setup\n",
    "#################################################\n",
    "app = Flask(__name__)\n",
    "\n",
    "\n",
    "#################################################\n",
    "# Flask Routes\n",
    "#################################################\n",
    "\n",
    "@app.route(\"/\")\n",
    "def welcome():\n",
    "    \"\"\"California Crime Rate\"\"\"\n",
    "    return (\n",
    "        f\"Available Routes:<br/>\"\n",
    "        \n",
    "    )\n"
   ]
  },
  {
   "cell_type": "code",
   "execution_count": null,
   "metadata": {},
   "outputs": [],
   "source": []
  }
 ],
 "metadata": {
  "kernelspec": {
   "display_name": "Python 3 (ipykernel)",
   "language": "python",
   "name": "python3"
  },
  "language_info": {
   "codemirror_mode": {
    "name": "ipython",
    "version": 3
   },
   "file_extension": ".py",
   "mimetype": "text/x-python",
   "name": "python",
   "nbconvert_exporter": "python",
   "pygments_lexer": "ipython3",
   "version": "3.10.11"
  }
 },
 "nbformat": 4,
 "nbformat_minor": 2
}
